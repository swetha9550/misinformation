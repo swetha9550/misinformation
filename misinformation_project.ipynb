{
  "nbformat": 4,
  "nbformat_minor": 0,
  "metadata": {
    "colab": {
      "provenance": [],
      "authorship_tag": "ABX9TyO4HITTZ7Ez04dhipvq/1Pa",
      "include_colab_link": true
    },
    "kernelspec": {
      "name": "python3",
      "display_name": "Python 3"
    },
    "language_info": {
      "name": "python"
    }
  },
  "cells": [
    {
      "cell_type": "markdown",
      "metadata": {
        "id": "view-in-github",
        "colab_type": "text"
      },
      "source": [
        "<a href=\"https://colab.research.google.com/github/swetha9550/misinformation/blob/main/misinformation_project.ipynb\" target=\"_parent\"><img src=\"https://colab.research.google.com/assets/colab-badge.svg\" alt=\"Open In Colab\"/></a>"
      ]
    },
    {
      "cell_type": "code",
      "execution_count": null,
      "metadata": {
        "colab": {
          "base_uri": "https://localhost:8080/"
        },
        "id": "W3DlzFTtoxzf",
        "outputId": "94264591-22ed-4b2c-eea6-f53677630538"
      },
      "outputs": [
        {
          "output_type": "stream",
          "name": "stderr",
          "text": [
            "[nltk_data] Downloading package punkt_tab to /root/nltk_data...\n",
            "[nltk_data]   Unzipping tokenizers/punkt_tab.zip.\n",
            "[nltk_data] Downloading package stopwords to /root/nltk_data...\n",
            "[nltk_data]   Package stopwords is already up-to-date!\n"
          ]
        }
      ],
      "source": [
        "# Install required libraries (run in terminal if not already installed)\n",
        "# !pip install pandas scikit-learn nltk seaborn matplotlib joblib\n",
        "\n",
        "# Import libraries\n",
        "import pandas as pd\n",
        "import re\n",
        "import nltk\n",
        "from nltk.corpus import stopwords\n",
        "from nltk.tokenize import word_tokenize\n",
        "from sklearn.model_selection import train_test_split, cross_val_score\n",
        "from sklearn.feature_extraction.text import TfidfVectorizer\n",
        "from sklearn.linear_model import LogisticRegression\n",
        "from sklearn.metrics import accuracy_score, classification_report, confusion_matrix, roc_curve, auc\n",
        "import seaborn as sns\n",
        "import matplotlib.pyplot as plt\n",
        "import joblib\n",
        "\n",
        "# Download NLTK data (updated to include punkt_tab)\n",
        "nltk.download('punkt_tab')  # Updated to download the correct tokenizer data\n",
        "nltk.download('stopwords')\n",
        "stop_words = set(stopwords.words('english'))\n",
        "\n",
        "# Display plots inline\n",
        "%matplotlib inline"
      ]
    },
    {
      "cell_type": "code",
      "source": [
        "def preprocess_text(text):\n",
        "    \"\"\"Clean and preprocess text data.\"\"\"\n",
        "    # Convert to lowercase\n",
        "    text = text.lower()\n",
        "    # Remove special characters, URLs, and numbers\n",
        "    text = re.sub(r'http\\S+|www\\S+|https\\S+', '', text, flags=re.MULTILINE)\n",
        "    text = re.sub(r'\\W|\\d', ' ', text)\n",
        "    # Tokenize\n",
        "    tokens = word_tokenize(text)\n",
        "    # Remove stopwords\n",
        "    tokens = [word for word in tokens if word not in stop_words]\n",
        "    return ' '.join(tokens)"
      ],
      "metadata": {
        "id": "YrtAOj3oppaO"
      },
      "execution_count": null,
      "outputs": []
    },
    {
      "cell_type": "code",
      "source": [
        "def load_and_prepare_data(fake_path, true_path):\n",
        "    \"\"\"Load and combine fake and true news datasets.\"\"\"\n",
        "    # Load datasets\n",
        "    fake_df = pd.read_csv('/content/Fake.csv')\n",
        "    true_df = pd.read_csv('/content/True.csv')\n",
        "\n",
        "    # Add labels: 1 for fake, 0 for true\n",
        "    fake_df['label'] = 1\n",
        "    true_df['label'] = 0\n",
        "\n",
        "    # Combine datasets\n",
        "    df = pd.concat([fake_df, true_df], ignore_index=True)\n",
        "\n",
        "    # Use 'text' column, fill missing values\n",
        "    df['text'] = df['text'].fillna('')\n",
        "\n",
        "    # Preprocess text\n",
        "    df['cleaned_text'] = df['text'].apply(preprocess_text)\n",
        "\n",
        "    return df\n",
        "\n",
        "# Update paths to your dataset files\n",
        "fake_path = 'data/Fake.csv'\n",
        "true_path = 'data/True.csv'\n",
        "\n",
        "# Load data\n",
        "print(\"Loading and preprocessing data...\")\n",
        "df = load_and_prepare_data('/content/Fake.csv', '/content/True.csv')\n",
        "\n",
        "# Display first few rows\n",
        "df[['text', 'cleaned_text', 'label']].head()"
      ],
      "metadata": {
        "colab": {
          "base_uri": "https://localhost:8080/",
          "height": 224
        },
        "id": "70D395prp4jN",
        "outputId": "3f880931-8494-4a19-fd88-35d3b3557eb5"
      },
      "execution_count": null,
      "outputs": [
        {
          "output_type": "stream",
          "name": "stdout",
          "text": [
            "Loading and preprocessing data...\n"
          ]
        },
        {
          "output_type": "execute_result",
          "data": {
            "text/plain": [
              "                                                text  \\\n",
              "0  Donald Trump just couldn t wish all Americans ...   \n",
              "1  House Intelligence Committee Chairman Devin Nu...   \n",
              "2  On Friday, it was revealed that former Milwauk...   \n",
              "3  On Christmas day, Donald Trump announced that ...   \n",
              "4  Pope Francis used his annual Christmas Day mes...   \n",
              "\n",
              "                                        cleaned_text  label  \n",
              "0  donald trump wish americans happy new year lea...      1  \n",
              "1  house intelligence committee chairman devin nu...      1  \n",
              "2  friday revealed former milwaukee sheriff david...      1  \n",
              "3  christmas day donald trump announced would bac...      1  \n",
              "4  pope francis used annual christmas day message...      1  "
            ],
            "text/html": [
              "\n",
              "  <div id=\"df-25bb1f18-8357-4246-94ce-528441ffc0f9\" class=\"colab-df-container\">\n",
              "    <div>\n",
              "<style scoped>\n",
              "    .dataframe tbody tr th:only-of-type {\n",
              "        vertical-align: middle;\n",
              "    }\n",
              "\n",
              "    .dataframe tbody tr th {\n",
              "        vertical-align: top;\n",
              "    }\n",
              "\n",
              "    .dataframe thead th {\n",
              "        text-align: right;\n",
              "    }\n",
              "</style>\n",
              "<table border=\"1\" class=\"dataframe\">\n",
              "  <thead>\n",
              "    <tr style=\"text-align: right;\">\n",
              "      <th></th>\n",
              "      <th>text</th>\n",
              "      <th>cleaned_text</th>\n",
              "      <th>label</th>\n",
              "    </tr>\n",
              "  </thead>\n",
              "  <tbody>\n",
              "    <tr>\n",
              "      <th>0</th>\n",
              "      <td>Donald Trump just couldn t wish all Americans ...</td>\n",
              "      <td>donald trump wish americans happy new year lea...</td>\n",
              "      <td>1</td>\n",
              "    </tr>\n",
              "    <tr>\n",
              "      <th>1</th>\n",
              "      <td>House Intelligence Committee Chairman Devin Nu...</td>\n",
              "      <td>house intelligence committee chairman devin nu...</td>\n",
              "      <td>1</td>\n",
              "    </tr>\n",
              "    <tr>\n",
              "      <th>2</th>\n",
              "      <td>On Friday, it was revealed that former Milwauk...</td>\n",
              "      <td>friday revealed former milwaukee sheriff david...</td>\n",
              "      <td>1</td>\n",
              "    </tr>\n",
              "    <tr>\n",
              "      <th>3</th>\n",
              "      <td>On Christmas day, Donald Trump announced that ...</td>\n",
              "      <td>christmas day donald trump announced would bac...</td>\n",
              "      <td>1</td>\n",
              "    </tr>\n",
              "    <tr>\n",
              "      <th>4</th>\n",
              "      <td>Pope Francis used his annual Christmas Day mes...</td>\n",
              "      <td>pope francis used annual christmas day message...</td>\n",
              "      <td>1</td>\n",
              "    </tr>\n",
              "  </tbody>\n",
              "</table>\n",
              "</div>\n",
              "    <div class=\"colab-df-buttons\">\n",
              "\n",
              "  <div class=\"colab-df-container\">\n",
              "    <button class=\"colab-df-convert\" onclick=\"convertToInteractive('df-25bb1f18-8357-4246-94ce-528441ffc0f9')\"\n",
              "            title=\"Convert this dataframe to an interactive table.\"\n",
              "            style=\"display:none;\">\n",
              "\n",
              "  <svg xmlns=\"http://www.w3.org/2000/svg\" height=\"24px\" viewBox=\"0 -960 960 960\">\n",
              "    <path d=\"M120-120v-720h720v720H120Zm60-500h600v-160H180v160Zm220 220h160v-160H400v160Zm0 220h160v-160H400v160ZM180-400h160v-160H180v160Zm440 0h160v-160H620v160ZM180-180h160v-160H180v160Zm440 0h160v-160H620v160Z\"/>\n",
              "  </svg>\n",
              "    </button>\n",
              "\n",
              "  <style>\n",
              "    .colab-df-container {\n",
              "      display:flex;\n",
              "      gap: 12px;\n",
              "    }\n",
              "\n",
              "    .colab-df-convert {\n",
              "      background-color: #E8F0FE;\n",
              "      border: none;\n",
              "      border-radius: 50%;\n",
              "      cursor: pointer;\n",
              "      display: none;\n",
              "      fill: #1967D2;\n",
              "      height: 32px;\n",
              "      padding: 0 0 0 0;\n",
              "      width: 32px;\n",
              "    }\n",
              "\n",
              "    .colab-df-convert:hover {\n",
              "      background-color: #E2EBFA;\n",
              "      box-shadow: 0px 1px 2px rgba(60, 64, 67, 0.3), 0px 1px 3px 1px rgba(60, 64, 67, 0.15);\n",
              "      fill: #174EA6;\n",
              "    }\n",
              "\n",
              "    .colab-df-buttons div {\n",
              "      margin-bottom: 4px;\n",
              "    }\n",
              "\n",
              "    [theme=dark] .colab-df-convert {\n",
              "      background-color: #3B4455;\n",
              "      fill: #D2E3FC;\n",
              "    }\n",
              "\n",
              "    [theme=dark] .colab-df-convert:hover {\n",
              "      background-color: #434B5C;\n",
              "      box-shadow: 0px 1px 3px 1px rgba(0, 0, 0, 0.15);\n",
              "      filter: drop-shadow(0px 1px 2px rgba(0, 0, 0, 0.3));\n",
              "      fill: #FFFFFF;\n",
              "    }\n",
              "  </style>\n",
              "\n",
              "    <script>\n",
              "      const buttonEl =\n",
              "        document.querySelector('#df-25bb1f18-8357-4246-94ce-528441ffc0f9 button.colab-df-convert');\n",
              "      buttonEl.style.display =\n",
              "        google.colab.kernel.accessAllowed ? 'block' : 'none';\n",
              "\n",
              "      async function convertToInteractive(key) {\n",
              "        const element = document.querySelector('#df-25bb1f18-8357-4246-94ce-528441ffc0f9');\n",
              "        const dataTable =\n",
              "          await google.colab.kernel.invokeFunction('convertToInteractive',\n",
              "                                                    [key], {});\n",
              "        if (!dataTable) return;\n",
              "\n",
              "        const docLinkHtml = 'Like what you see? Visit the ' +\n",
              "          '<a target=\"_blank\" href=https://colab.research.google.com/notebooks/data_table.ipynb>data table notebook</a>'\n",
              "          + ' to learn more about interactive tables.';\n",
              "        element.innerHTML = '';\n",
              "        dataTable['output_type'] = 'display_data';\n",
              "        await google.colab.output.renderOutput(dataTable, element);\n",
              "        const docLink = document.createElement('div');\n",
              "        docLink.innerHTML = docLinkHtml;\n",
              "        element.appendChild(docLink);\n",
              "      }\n",
              "    </script>\n",
              "  </div>\n",
              "\n",
              "\n",
              "    <div id=\"df-560773e5-a860-40b8-8fd5-df655d9e211e\">\n",
              "      <button class=\"colab-df-quickchart\" onclick=\"quickchart('df-560773e5-a860-40b8-8fd5-df655d9e211e')\"\n",
              "                title=\"Suggest charts\"\n",
              "                style=\"display:none;\">\n",
              "\n",
              "<svg xmlns=\"http://www.w3.org/2000/svg\" height=\"24px\"viewBox=\"0 0 24 24\"\n",
              "     width=\"24px\">\n",
              "    <g>\n",
              "        <path d=\"M19 3H5c-1.1 0-2 .9-2 2v14c0 1.1.9 2 2 2h14c1.1 0 2-.9 2-2V5c0-1.1-.9-2-2-2zM9 17H7v-7h2v7zm4 0h-2V7h2v10zm4 0h-2v-4h2v4z\"/>\n",
              "    </g>\n",
              "</svg>\n",
              "      </button>\n",
              "\n",
              "<style>\n",
              "  .colab-df-quickchart {\n",
              "      --bg-color: #E8F0FE;\n",
              "      --fill-color: #1967D2;\n",
              "      --hover-bg-color: #E2EBFA;\n",
              "      --hover-fill-color: #174EA6;\n",
              "      --disabled-fill-color: #AAA;\n",
              "      --disabled-bg-color: #DDD;\n",
              "  }\n",
              "\n",
              "  [theme=dark] .colab-df-quickchart {\n",
              "      --bg-color: #3B4455;\n",
              "      --fill-color: #D2E3FC;\n",
              "      --hover-bg-color: #434B5C;\n",
              "      --hover-fill-color: #FFFFFF;\n",
              "      --disabled-bg-color: #3B4455;\n",
              "      --disabled-fill-color: #666;\n",
              "  }\n",
              "\n",
              "  .colab-df-quickchart {\n",
              "    background-color: var(--bg-color);\n",
              "    border: none;\n",
              "    border-radius: 50%;\n",
              "    cursor: pointer;\n",
              "    display: none;\n",
              "    fill: var(--fill-color);\n",
              "    height: 32px;\n",
              "    padding: 0;\n",
              "    width: 32px;\n",
              "  }\n",
              "\n",
              "  .colab-df-quickchart:hover {\n",
              "    background-color: var(--hover-bg-color);\n",
              "    box-shadow: 0 1px 2px rgba(60, 64, 67, 0.3), 0 1px 3px 1px rgba(60, 64, 67, 0.15);\n",
              "    fill: var(--button-hover-fill-color);\n",
              "  }\n",
              "\n",
              "  .colab-df-quickchart-complete:disabled,\n",
              "  .colab-df-quickchart-complete:disabled:hover {\n",
              "    background-color: var(--disabled-bg-color);\n",
              "    fill: var(--disabled-fill-color);\n",
              "    box-shadow: none;\n",
              "  }\n",
              "\n",
              "  .colab-df-spinner {\n",
              "    border: 2px solid var(--fill-color);\n",
              "    border-color: transparent;\n",
              "    border-bottom-color: var(--fill-color);\n",
              "    animation:\n",
              "      spin 1s steps(1) infinite;\n",
              "  }\n",
              "\n",
              "  @keyframes spin {\n",
              "    0% {\n",
              "      border-color: transparent;\n",
              "      border-bottom-color: var(--fill-color);\n",
              "      border-left-color: var(--fill-color);\n",
              "    }\n",
              "    20% {\n",
              "      border-color: transparent;\n",
              "      border-left-color: var(--fill-color);\n",
              "      border-top-color: var(--fill-color);\n",
              "    }\n",
              "    30% {\n",
              "      border-color: transparent;\n",
              "      border-left-color: var(--fill-color);\n",
              "      border-top-color: var(--fill-color);\n",
              "      border-right-color: var(--fill-color);\n",
              "    }\n",
              "    40% {\n",
              "      border-color: transparent;\n",
              "      border-right-color: var(--fill-color);\n",
              "      border-top-color: var(--fill-color);\n",
              "    }\n",
              "    60% {\n",
              "      border-color: transparent;\n",
              "      border-right-color: var(--fill-color);\n",
              "    }\n",
              "    80% {\n",
              "      border-color: transparent;\n",
              "      border-right-color: var(--fill-color);\n",
              "      border-bottom-color: var(--fill-color);\n",
              "    }\n",
              "    90% {\n",
              "      border-color: transparent;\n",
              "      border-bottom-color: var(--fill-color);\n",
              "    }\n",
              "  }\n",
              "</style>\n",
              "\n",
              "      <script>\n",
              "        async function quickchart(key) {\n",
              "          const quickchartButtonEl =\n",
              "            document.querySelector('#' + key + ' button');\n",
              "          quickchartButtonEl.disabled = true;  // To prevent multiple clicks.\n",
              "          quickchartButtonEl.classList.add('colab-df-spinner');\n",
              "          try {\n",
              "            const charts = await google.colab.kernel.invokeFunction(\n",
              "                'suggestCharts', [key], {});\n",
              "          } catch (error) {\n",
              "            console.error('Error during call to suggestCharts:', error);\n",
              "          }\n",
              "          quickchartButtonEl.classList.remove('colab-df-spinner');\n",
              "          quickchartButtonEl.classList.add('colab-df-quickchart-complete');\n",
              "        }\n",
              "        (() => {\n",
              "          let quickchartButtonEl =\n",
              "            document.querySelector('#df-560773e5-a860-40b8-8fd5-df655d9e211e button');\n",
              "          quickchartButtonEl.style.display =\n",
              "            google.colab.kernel.accessAllowed ? 'block' : 'none';\n",
              "        })();\n",
              "      </script>\n",
              "    </div>\n",
              "\n",
              "    </div>\n",
              "  </div>\n"
            ],
            "application/vnd.google.colaboratory.intrinsic+json": {
              "type": "dataframe",
              "summary": "{\n  \"name\": \"df[['text', 'cleaned_text', 'label']]\",\n  \"rows\": 5,\n  \"fields\": [\n    {\n      \"column\": \"text\",\n      \"properties\": {\n        \"dtype\": \"string\",\n        \"num_unique_values\": 5,\n        \"samples\": [\n          \"House Intelligence Committee Chairman Devin Nunes is going to have a bad day. He s been under the assumption, like many of us, that the Christopher Steele-dossier was what prompted the Russia investigation so he s been lashing out at the Department of Justice and the FBI in order to protect Trump. As it happens, the dossier is not what started the investigation, according to documents obtained by the New York Times.Former Trump campaign adviser George Papadopoulos was drunk in a wine bar when he revealed knowledge of Russian opposition research on Hillary Clinton.On top of that, Papadopoulos wasn t just a covfefe boy for Trump, as his administration has alleged. He had a much larger role, but none so damning as being a drunken fool in a wine bar. Coffee boys  don t help to arrange a New York meeting between Trump and President Abdel Fattah el-Sisi of Egypt two months before the election. It was known before that the former aide set up meetings with world leaders for Trump, but team Trump ran with him being merely a coffee boy.In May 2016, Papadopoulos revealed to Australian diplomat Alexander Downer that Russian officials were shopping around possible dirt on then-Democratic presidential nominee Hillary Clinton. Exactly how much Mr. Papadopoulos said that night at the Kensington Wine Rooms with the Australian, Alexander Downer, is unclear,  the report states.  But two months later, when leaked Democratic emails began appearing online, Australian officials passed the information about Mr. Papadopoulos to their American counterparts, according to four current and former American and foreign officials with direct knowledge of the Australians  role. Papadopoulos pleaded guilty to lying to the F.B.I. and is now a cooperating witness with Special Counsel Robert Mueller s team.This isn t a presidency. It s a badly scripted reality TV show.Photo by Win McNamee/Getty Images.\",\n          \"Pope Francis used his annual Christmas Day message to rebuke Donald Trump without even mentioning his name. The Pope delivered his message just days after members of the United Nations condemned Trump s move to recognize Jerusalem as the capital of Israel. The Pontiff prayed on Monday for the  peaceful coexistence of two states within mutually agreed and internationally recognized borders. We see Jesus in the children of the Middle East who continue to suffer because of growing tensions between Israelis and Palestinians,  Francis said.  On this festive day, let us ask the Lord for peace for Jerusalem and for all the Holy Land. Let us pray that the will to resume dialogue may prevail between the parties and that a negotiated solution can finally be reached. The Pope went on to plead for acceptance of refugees who have been forced from their homes, and that is an issue Trump continues to fight against. Francis used Jesus for which there was  no place in the inn  as an analogy. Today, as the winds of war are blowing in our world and an outdated model of development continues to produce human, societal and environmental decline, Christmas invites us to focus on the sign of the Child and to recognize him in the faces of little children, especially those for whom, like Jesus,  there is no place in the inn,  he said. Jesus knows well the pain of not being welcomed and how hard it is not to have a place to lay one s head,  he added.  May our hearts not be closed as they were in the homes of Bethlehem. The Pope said that Mary and Joseph were immigrants who struggled to find a safe place to stay in Bethlehem. They had to leave their people, their home, and their land,  Francis said.  This was no comfortable or easy journey for a young couple about to have a child.   At heart, they were full of hope and expectation because of the child about to be born; yet their steps were weighed down by the uncertainties and dangers that attend those who have to leave their home behind. So many other footsteps are hidden in the footsteps of Joseph and Mary,  Francis said Sunday. We see the tracks of entire families forced to set out in our own day. We see the tracks of millions of persons who do not choose to go away, but driven from their land, leave behind their dear ones. Amen to that.Photo by Christopher Furlong/Getty Images.\",\n          \"On Friday, it was revealed that former Milwaukee Sheriff David Clarke, who was being considered for Homeland Security Secretary in Donald Trump s administration, has an email scandal of his own.In January, there was a brief run-in on a plane between Clarke and fellow passenger Dan Black, who he later had detained by the police for no reason whatsoever, except that maybe his feelings were hurt. Clarke messaged the police to stop Black after he deplaned, and now, a search warrant has been executed by the FBI to see the exchanges.Clarke is calling it fake news even though copies of the search warrant are on the Internet. I am UNINTIMIDATED by lib media attempts to smear and discredit me with their FAKE NEWS reports designed to silence me,  the former sheriff tweeted.  I will continue to poke them in the eye with a sharp stick and bitch slap these scum bags til they get it. I have been attacked by better people than them #MAGA I am UNINTIMIDATED by lib media attempts to smear and discredit me with their FAKE NEWS reports designed to silence me. I will continue to poke them in the eye with a sharp stick and bitch slap these scum bags til they get it. I have been attacked by better people than them #MAGA pic.twitter.com/XtZW5PdU2b  David A. Clarke, Jr. (@SheriffClarke) December 30, 2017He didn t stop there.BREAKING NEWS! When LYING LIB MEDIA makes up FAKE NEWS to smear me, the ANTIDOTE is go right at them. Punch them in the nose & MAKE THEM TASTE THEIR OWN BLOOD. Nothing gets a bully like LYING LIB MEDIA S attention better than to give them a taste of their own blood #neverbackdown pic.twitter.com/T2NY2psHCR  David A. Clarke, Jr. (@SheriffClarke) December 30, 2017The internet called him out.This is your local newspaper and that search warrant isn t fake, and just because the chose not to file charges at the time doesn t mean they won t! Especially if you continue to lie. Months after decision not to charge Clarke, email search warrant filed https://t.co/zcbyc4Wp5b  KeithLeBlanc (@KeithLeBlanc63) December 30, 2017I just hope the rest of the Village People aren t implicated.  Kirk Ketchum (@kirkketchum) December 30, 2017Slaw, baked potatoes, or French fries? pic.twitter.com/fWfXsZupxy  ALT- Immigration   (@ALT_uscis) December 30, 2017pic.twitter.com/ymsOBLjfxU  Pendulum Swinger (@PendulumSwngr) December 30, 2017you called your police friends to stand up for you when someone made fun of your hat  Chris Jackson (@ChrisCJackson) December 30, 2017Is it me, with this masterful pshop of your hat, which I seem to never tire of. I think it s the steely resolve in your one visible eye pic.twitter.com/dWr5k8ZEZV  Chris Mohney (@chrismohney) December 30, 2017Are you indicating with your fingers how many people died in your jail? I think you re a few fingers short, dipshit  Ike Barinholtz (@ikebarinholtz) December 30, 2017ROFL. Internet tough guy with fake flair. pic.twitter.com/ulCFddhkdy  KellMeCrazy (@Kel_MoonFace) December 30, 2017You re so edgy, buddy.  Mrs. SMH (@MRSSMH2) December 30, 2017Is his break over at Applebees?  Aaron (@feltrrr2) December 30, 2017Are you trying to earn your  still relevant  badge?  CircusRebel (@CircusDrew) December 30, 2017make sure to hydrate, drink lots of water. It s rumored that prisoners can be denied water by prison officials.  Robert Klinc (@RobertKlinc1) December 30, 2017Terrill Thomas, the 38-year-old black man who died of thirst in Clarke s Milwaukee County Jail cell this April, was a victim of homicide. We just thought we should point that out. It can t be repeated enough.Photo by Spencer Platt/Getty Images.\"\n        ],\n        \"semantic_type\": \"\",\n        \"description\": \"\"\n      }\n    },\n    {\n      \"column\": \"cleaned_text\",\n      \"properties\": {\n        \"dtype\": \"string\",\n        \"num_unique_values\": 5,\n        \"samples\": [\n          \"house intelligence committee chairman devin nunes going bad day assumption like many us christopher steele dossier prompted russia investigation lashing department justice fbi order protect trump happens dossier started investigation according documents obtained new york times former trump campaign adviser george papadopoulos drunk wine bar revealed knowledge russian opposition research hillary clinton top papadopoulos covfefe boy trump administration alleged much larger role none damning drunken fool wine bar coffee boys help arrange new york meeting trump president abdel fattah el sisi egypt two months election known former aide set meetings world leaders trump team trump ran merely coffee boy may papadopoulos revealed australian diplomat alexander downer russian officials shopping around possible dirt democratic presidential nominee hillary clinton exactly much mr papadopoulos said night kensington wine rooms australian alexander downer unclear report states two months later leaked democratic emails began appearing online australian officials passed information mr papadopoulos american counterparts according four current former american foreign officials direct knowledge australians role papadopoulos pleaded guilty lying f b cooperating witness special counsel robert mueller team presidency badly scripted reality tv show photo win mcnamee getty images\",\n          \"pope francis used annual christmas day message rebuke donald trump without even mentioning name pope delivered message days members united nations condemned trump move recognize jerusalem capital israel pontiff prayed monday peaceful coexistence two states within mutually agreed internationally recognized borders see jesus children middle east continue suffer growing tensions israelis palestinians francis said festive day let us ask lord peace jerusalem holy land let us pray resume dialogue may prevail parties negotiated solution finally reached pope went plead acceptance refugees forced homes issue trump continues fight francis used jesus place inn analogy today winds war blowing world outdated model development continues produce human societal environmental decline christmas invites us focus sign child recognize faces little children especially like jesus place inn said jesus knows well pain welcomed hard place lay one head added may hearts closed homes bethlehem pope said mary joseph immigrants struggled find safe place stay bethlehem leave people home land francis said comfortable easy journey young couple child heart full hope expectation child born yet steps weighed uncertainties dangers attend leave home behind many footsteps hidden footsteps joseph mary francis said sunday see tracks entire families forced set day see tracks millions persons choose go away driven land leave behind dear ones amen photo christopher furlong getty images\",\n          \"friday revealed former milwaukee sheriff david clarke considered homeland security secretary donald trump administration email scandal january brief run plane clarke fellow passenger dan black later detained police reason whatsoever except maybe feelings hurt clarke messaged police stop black deplaned search warrant executed fbi see exchanges clarke calling fake news even though copies search warrant internet unintimidated lib media attempts smear discredit fake news reports designed silence former sheriff tweeted continue poke eye sharp stick bitch slap scum bags til get attacked better people maga unintimidated lib media attempts smear discredit fake news reports designed silence continue poke eye sharp stick bitch slap scum bags til get attacked better people maga pic twitter com xtzw pdu b david clarke jr sheriffclarke december stop breaking news lying lib media makes fake news smear antidote go right punch nose make taste blood nothing gets bully like lying lib media attention better give taste blood neverbackdown pic twitter com ny pshcr david clarke jr sheriffclarke december internet called local newspaper search warrant fake chose file charges time mean especially continue lie months decision charge clarke email search warrant filed keithleblanc keithleblanc december hope rest village people implicated kirk ketchum kirkketchum december slaw baked potatoes french fries pic twitter com fwfxszupxy alt immigration alt_uscis december pic twitter com ymsobljfxu pendulum swinger pendulumswngr december called police friends stand someone made fun hat chris jackson chriscjackson december masterful pshop hat seem never tire think steely resolve one visible eye pic twitter com dwr k zezv chris mohney chrismohney december indicating fingers many people died jail think fingers short dipshit ike barinholtz ikebarinholtz december rofl internet tough guy fake flair pic twitter com ulcfddhkdy kellmecrazy kel_moonface december edgy buddy mrs smh mrssmh december break applebees aaron feltrrr december trying earn still relevant badge circusrebel circusdrew december make sure hydrate drink lots water rumored prisoners denied water prison officials robert klinc robertklinc december terrill thomas year old black man died thirst clarke milwaukee county jail cell april victim homicide thought point repeated enough photo spencer platt getty images\"\n        ],\n        \"semantic_type\": \"\",\n        \"description\": \"\"\n      }\n    },\n    {\n      \"column\": \"label\",\n      \"properties\": {\n        \"dtype\": \"number\",\n        \"std\": 0,\n        \"min\": 1,\n        \"max\": 1,\n        \"num_unique_values\": 1,\n        \"samples\": [\n          1\n        ],\n        \"semantic_type\": \"\",\n        \"description\": \"\"\n      }\n    }\n  ]\n}"
            }
          },
          "metadata": {},
          "execution_count": 12
        }
      ]
    },
    {
      "cell_type": "code",
      "source": [
        "# Split data into train+validation (90%) and holdout (10%)\n",
        "X_temp, X_holdout, y_temp, y_holdout = train_test_split(\n",
        "    df['cleaned_text'], df['label'], test_size=0.1, random_state=42\n",
        ")\n",
        "\n",
        "# Split train+validation into train (70%) and validation (20%)\n",
        "X_train, X_val, y_train, y_val = train_test_split(\n",
        "    X_temp, y_temp, test_size=0.2222, random_state=42  # 0.2222 of 90% = 20% of total\n",
        ")\n",
        "\n",
        "print(f\"Training set size: {len(X_train)}\")\n",
        "print(f\"Validation set size: {len(X_val)}\")\n",
        "print(f\"Holdout set size: {len(X_holdout)}\")"
      ],
      "metadata": {
        "colab": {
          "base_uri": "https://localhost:8080/"
        },
        "id": "_9wapgyzq7HV",
        "outputId": "5d1f1808-0fdf-4cb1-90b1-fde3f15c1b74"
      },
      "execution_count": null,
      "outputs": [
        {
          "output_type": "stream",
          "name": "stdout",
          "text": [
            "Training set size: 31429\n",
            "Validation set size: 8979\n",
            "Holdout set size: 4490\n"
          ]
        }
      ]
    },
    {
      "cell_type": "code",
      "source": [
        "from sklearn.naive_bayes import MultinomialNB  # Added import for MultinomialNB\n",
        "\n",
        "def train_model(X_train, X_val, y_train, y_val):\n",
        "    \"\"\"Train and evaluate the model.\"\"\"\n",
        "    # Initialize TF-IDF vectorizer with updated parameters\n",
        "    vectorizer = TfidfVectorizer(max_features=10000, ngram_range=(1, 3))\n",
        "\n",
        "    # Transform text to TF-IDF features\n",
        "    X_train_tfidf = vectorizer.fit_transform(X_train)\n",
        "    X_val_tfidf = vectorizer.transform(X_val)\n",
        "\n",
        "    # Train Multinomial Naive Bayes model\n",
        "    model = MultinomialNB()\n",
        "    model.fit(X_train_tfidf, y_train)  # Ensure the model is fitted\n",
        "\n",
        "    # Predict on validation set\n",
        "    y_pred = model.predict(X_val_tfidf)\n",
        "\n",
        "    # Evaluate\n",
        "    accuracy = accuracy_score(y_val, y_pred)\n",
        "    print(f\"Validation Accuracy: {accuracy:.4f}\")\n",
        "    print(\"\\nClassification Report:\")\n",
        "    print(classification_report(y_val, y_pred, target_names=['True', 'Fake']))\n",
        "\n",
        "    # Confusion matrix\n",
        "    cm = confusion_matrix(y_val, y_pred)\n",
        "    plt.figure(figsize=(6, 4))\n",
        "    sns.heatmap(cm, annot=True, fmt='d', cmap='Blues', xticklabels=['True', 'Fake'], yticklabels=['True', 'Fake'])\n",
        "    plt.title('Confusion Matrix (Validation Set)')\n",
        "    plt.xlabel('Predicted')\n",
        "    plt.ylabel('Actual')\n",
        "    plt.show()\n",
        "\n",
        "    return model, vectorizer\n",
        "\n",
        "# Train and evaluate\n",
        "print(\"Training model...\")\n",
        "model, vectorizer = train_model(X_train, X_val, y_train, y_val)"
      ],
      "metadata": {
        "colab": {
          "base_uri": "https://localhost:8080/",
          "height": 636
        },
        "id": "j8o6AG0S1V3M",
        "outputId": "7c559123-6eed-475d-ef87-fd2c31d26118"
      },
      "execution_count": null,
      "outputs": [
        {
          "output_type": "stream",
          "name": "stdout",
          "text": [
            "Training model...\n",
            "Validation Accuracy: 0.9538\n",
            "\n",
            "Classification Report:\n",
            "              precision    recall  f1-score   support\n",
            "\n",
            "        True       0.95      0.95      0.95      4327\n",
            "        Fake       0.96      0.95      0.96      4652\n",
            "\n",
            "    accuracy                           0.95      8979\n",
            "   macro avg       0.95      0.95      0.95      8979\n",
            "weighted avg       0.95      0.95      0.95      8979\n",
            "\n"
          ]
        },
        {
          "output_type": "display_data",
          "data": {
            "text/plain": [
              "<Figure size 600x400 with 2 Axes>"
            ],
            "image/png": "[encoded data removed]"
          },
          "metadata": {}
        }
      ]
    },
    {
      "cell_type": "code",
      "source": [
        "df['label'].value_counts()"
      ],
      "metadata": {
        "colab": {
          "base_uri": "https://localhost:8080/",
          "height": 178
        },
        "id": "hNjxxrC4-y_-",
        "outputId": "4e6cbcf7-94e6-4b0e-870b-a9c2d95d470b"
      },
      "execution_count": null,
      "outputs": [
        {
          "output_type": "execute_result",
          "data": {
            "text/plain": [
              "label\n",
              "1    23481\n",
              "0    21417\n",
              "Name: count, dtype: int64"
            ],
            "text/html": [
              "<div>\n",
              "<style scoped>\n",
              "    .dataframe tbody tr th:only-of-type {\n",
              "        vertical-align: middle;\n",
              "    }\n",
              "\n",
              "    .dataframe tbody tr th {\n",
              "        vertical-align: top;\n",
              "    }\n",
              "\n",
              "    .dataframe thead th {\n",
              "        text-align: right;\n",
              "    }\n",
              "</style>\n",
              "<table border=\"1\" class=\"dataframe\">\n",
              "  <thead>\n",
              "    <tr style=\"text-align: right;\">\n",
              "      <th></th>\n",
              "      <th>count</th>\n",
              "    </tr>\n",
              "    <tr>\n",
              "      <th>label</th>\n",
              "      <th></th>\n",
              "    </tr>\n",
              "  </thead>\n",
              "  <tbody>\n",
              "    <tr>\n",
              "      <th>1</th>\n",
              "      <td>23481</td>\n",
              "    </tr>\n",
              "    <tr>\n",
              "      <th>0</th>\n",
              "      <td>21417</td>\n",
              "    </tr>\n",
              "  </tbody>\n",
              "</table>\n",
              "</div><br><label><b>dtype:</b> int64</label>"
            ]
          },
          "metadata": {},
          "execution_count": 31
        }
      ]
    },
    {
      "cell_type": "code",
      "source": [
        "def accuracy_tests(model, vectorizer, X_train, y_train, X_holdout, y_holdout):\n",
        "    \"\"\"Perform additional accuracy tests.\"\"\"\n",
        "    # Transform training and holdout data\n",
        "    X_train_tfidf = vectorizer.transform(X_train)\n",
        "    X_holdout_tfidf = vectorizer.transform(X_holdout)\n",
        "\n",
        "    # 5-fold cross-validation\n",
        "    cv_scores = cross_val_score(model, X_train_tfidf, y_train, cv=5, scoring='accuracy')\n",
        "    print(\"5-Fold Cross-Validation Scores:\", cv_scores)\n",
        "    print(f\"Mean CV Accuracy: {cv_scores.mean():.4f} (±{cv_scores.std() * 2:.4f})\")\n",
        "\n",
        "    # Holdout set evaluation\n",
        "    y_holdout_pred = model.predict(X_holdout_tfidf)\n",
        "    holdout_accuracy = accuracy_score(y_holdout, y_holdout_pred)\n",
        "    print(f\"\\nHoldout Set Accuracy: {holdout_accuracy:.4f}\")\n",
        "    print(\"\\nHoldout Set Classification Report:\")\n",
        "    print(classification_report(y_holdout, y_holdout_pred, target_names=['True', 'Fake']))\n",
        "\n",
        "    # ROC Curve\n",
        "    y_holdout_proba = model.predict_proba(X_holdout_tfidf)[:, 1]\n",
        "    fpr, tpr, _ = roc_curve(y_holdout, y_holdout_proba)\n",
        "    roc_auc = auc(fpr, tpr)\n",
        "\n",
        "    plt.figure(figsize=(6, 4))\n",
        "    plt.plot(fpr, tpr, color='darkorange', lw=2, label=f'ROC curve (AUC = {roc_auc:.2f})')\n",
        "    plt.plot([0, 1], [0, 1], color='navy', lw=2, linestyle='--')\n",
        "    plt.xlim([0.0, 1.0])\n",
        "    plt.ylim([0.0, 1.05])\n",
        "    plt.xlabel('False Positive Rate')\n",
        "    plt.ylabel('True Positive Rate')\n",
        "    plt.title('ROC Curve (Holdout Set)')\n",
        "    plt.legend(loc=\"lower right\")\n",
        "    plt.show()\n",
        "\n",
        "    # Save ROC curve\n",
        "    plt.savefig('roc_curve.png')\n",
        "    plt.close()\n",
        "\n",
        "# Run accuracy tests\n",
        "print(\"Running accuracy tests...\")\n",
        "accuracy_tests(model, vectorizer, X_train, y_train, X_holdout, y_holdout)"
      ],
      "metadata": {
        "colab": {
          "base_uri": "https://localhost:8080/",
          "height": 688
        },
        "id": "6M4shUfR2T21",
        "outputId": "bfcb7d73-3128-4898-cced-88ad6b64bd80"
      },
      "execution_count": null,
      "outputs": [
        {
          "output_type": "stream",
          "name": "stdout",
          "text": [
            "Running accuracy tests...\n",
            "5-Fold Cross-Validation Scores: [0.95275215 0.94925231 0.95211581 0.95402482 0.95513126]\n",
            "Mean CV Accuracy: 0.9527 (±0.0040)\n",
            "\n",
            "Holdout Set Accuracy: 0.9503\n",
            "\n",
            "Holdout Set Classification Report:\n",
            "              precision    recall  f1-score   support\n",
            "\n",
            "        True       0.95      0.94      0.95      2106\n",
            "        Fake       0.95      0.96      0.95      2384\n",
            "\n",
            "    accuracy                           0.95      4490\n",
            "   macro avg       0.95      0.95      0.95      4490\n",
            "weighted avg       0.95      0.95      0.95      4490\n",
            "\n"
          ]
        },
        {
          "output_type": "display_data",
          "data": {
            "text/plain": [
              "<Figure size 600x400 with 1 Axes>"
            ],
            "image/png": "[encoded data removed]"
          },
          "metadata": {}
        }
      ]
    },
    {
      "cell_type": "code",
      "source": [
        "# Save model and vectorizer\n",
        "joblib.dump(model, 'misinformation_model.pkl')\n",
        "joblib.dump(vectorizer, 'tfidf_vectorizer.pkl')\n",
        "print(\"Model and vectorizer saved.\")"
      ],
      "metadata": {
        "colab": {
          "base_uri": "https://localhost:8080/"
        },
        "id": "HxXb5vxO25Oh",
        "outputId": "3919a858-772d-4acf-a18f-f12b273fe730"
      },
      "execution_count": null,
      "outputs": [
        {
          "output_type": "stream",
          "name": "stdout",
          "text": [
            "Model and vectorizer saved.\n"
          ]
        }
      ]
    },
    {
      "cell_type": "code",
      "source": [
        "def predict_new_text(model, vectorizer, text):\n",
        "    \"\"\"Predict if a new text is misinformation.\"\"\"\n",
        "    # Preprocess the input text\n",
        "    cleaned_text = preprocess_text(text)\n",
        "    # Transform to TF-IDF\n",
        "    text_tfidf = vectorizer.transform([cleaned_text])\n",
        "    # Predict\n",
        "    prediction = model.predict(text_tfidf)[0]\n",
        "    return \"Misinformation (Fake)\" if prediction == 1 else \"Legitimate (True)\"\n",
        "\n",
        "# Test with sample posts\n",
        "sample_posts = [\n",
        "    \"Breaking: New vaccine causes superpowers, says anonymous source!\",\n",
        "    \"Government releases official report on climate change impacts.\"\n",
        "]\n",
        "print(\"\\nTesting with sample posts:\")\n",
        "for post in sample_posts:\n",
        "    result = predict_new_text(model, vectorizer, post)\n",
        "    print(f\"Post: {post}\\nPrediction: {result}\\n\")"
      ],
      "metadata": {
        "colab": {
          "base_uri": "https://localhost:8080/"
        },
        "id": "XqIbuM7S3MKP",
        "outputId": "3179a8be-7284-41c4-f226-6377ee2021df"
      },
      "execution_count": null,
      "outputs": [
        {
          "output_type": "stream",
          "name": "stdout",
          "text": [
            "\n",
            "Testing with sample posts:\n",
            "Post: Breaking: New vaccine causes superpowers, says anonymous source!\n",
            "Prediction: Misinformation (Fake)\n",
            "\n",
            "Post: Government releases official report on climate change impacts.\n",
            "Prediction: Misinformation (Fake)\n",
            "\n"
          ]
        }
      ]
    },
    {
      "cell_type": "code",
      "source": [
        "new_post = \"Aliens landed in New York, says unverified report!\"\n",
        "print(predict_new_text(model, vectorizer, new_post))"
      ],
      "metadata": {
        "colab": {
          "base_uri": "https://localhost:8080/"
        },
        "id": "GOR8Rugf6iHi",
        "outputId": "ca4c5722-41fe-49b1-95c0-3c9484a3ab73"
      },
      "execution_count": null,
      "outputs": [
        {
          "output_type": "stream",
          "name": "stdout",
          "text": [
            "Misinformation (Fake)\n"
          ]
        }
      ]
    },
    {
      "cell_type": "code",
      "source": [
        "new_post1 = \"New vaccine causes superpowers, says anonymous source!\"\n",
        "print(predict_new_text(model, vectorizer, new_post1))"
      ],
      "metadata": {
        "colab": {
          "base_uri": "https://localhost:8080/"
        },
        "id": "v73NpjnL8MtP",
        "outputId": "50d20c15-e500-48a7-fd09-ea9ad80d9476"
      },
      "execution_count": null,
      "outputs": [
        {
          "output_type": "stream",
          "name": "stdout",
          "text": [
            "Misinformation (Fake)\n"
          ]
        }
      ]
    },
    {
      "cell_type": "code",
      "source": [
        "new_post2 = \"WHO releases 2025 global health report: Vaccination rates reach 90% in low-income countries.\"\n",
        "print(predict_new_text(model, vectorizer,new_post2))"
      ],
      "metadata": {
        "colab": {
          "base_uri": "https://localhost:8080/"
        },
        "id": "pgxRxBan8Sep",
        "outputId": "45d44a2b-d38d-4134-9897-f5b31d7aad5a"
      },
      "execution_count": null,
      "outputs": [
        {
          "output_type": "stream",
          "name": "stdout",
          "text": [
            "Legitimate (True)\n"
          ]
        }
      ]
    },
    {
      "cell_type": "code",
      "source": [
        "new_post2 = \"NASA confirms successful launch of Artemis IV mission to the Moon on June 1, 2025.\"\n",
        "print(predict_new_text(model, vectorizer,new_post2))"
      ],
      "metadata": {
        "colab": {
          "base_uri": "https://localhost:8080/"
        },
        "id": "o7bcRcFOBU6S",
        "outputId": "4efcc04e-fbbe-40bb-b796-033f9b4ab445"
      },
      "execution_count": null,
      "outputs": [
        {
          "output_type": "stream",
          "name": "stdout",
          "text": [
            "Legitimate (True)\n"
          ]
        }
      ]
    }
  ]
}